{
 "cells": [
  {
   "cell_type": "markdown",
   "metadata": {},
   "source": [
    "## Notebooks for workload prediction tests\n",
    "### Using different sklearn libraries"
   ]
  },
  {
   "cell_type": "markdown",
   "metadata": {},
   "source": [
    "Bytte till notebooks för de kändes lättare..."
   ]
  },
  {
   "cell_type": "code",
   "execution_count": 167,
   "metadata": {},
   "outputs": [],
   "source": [
    "import matplotlib.pyplot as plt\n",
    "import pandas as pd\n",
    "import numpy as np\n",
    "import requests\n",
    "from sklearn.model_selection import train_test_split,GridSearchCV\n",
    "from sklearn.linear_model import LinearRegression  \n",
    "from sklearn.preprocessing import PolynomialFeatures\n",
    "\n",
    "from sklearn.metrics import mean_squared_error\n",
    "from sklearn.tree import DecisionTreeRegressor\n",
    "from sklearn.ensemble import RandomForestRegressor,GradientBoostingRegressor\n",
    "from sklearn.neighbors import KNeighborsRegressor\n",
    "\n",
    "from sklearn.pipeline import make_pipeline\n",
    "from sklearn.preprocessing import StandardScaler\n",
    "from sklearn.svm import SVR\n",
    "from sklearn import svm\n",
    "from numpy import mean\n",
    "from numpy import std"
   ]
  },
  {
   "cell_type": "code",
   "execution_count": 189,
   "metadata": {},
   "outputs": [],
   "source": [
    "##Access Target_device data\n",
    "QuerytoolBASE = \"http://127.0.0.1:5000/\"\n",
    "response = requests.get(QuerytoolBASE+\"databaseservice\",json={\"start_date\": \"1998-05-02\"})\n",
    "data_result = response.json()\n",
    "#historical_df = pd.DataFrame(data_result, columns=['timestamp', 'average_load', 'total_load', 'instances'])\n",
    "historical_df = pd.DataFrame(data_result, columns=['timestamp', 'requests'])\n",
    "historical_df['timestamp'] = pd.to_datetime(historical_df['timestamp']) \n",
    "historical_df['requests'] = historical_df['requests'].astype(int)"
   ]
  },
  {
   "cell_type": "code",
   "execution_count": 193,
   "metadata": {},
   "outputs": [
    {
     "name": "stdout",
     "output_type": "stream",
     "text": [
      "3.8890264954950835 13.762271007599772\n",
      "8.825648751547428\n",
      "Identified outliers: 23075\n",
      "62551\n"
     ]
    }
   ],
   "source": [
    "#Small effort do delete outliers\n",
    "# calculate summary statistics\n",
    "data_mean, data_std = mean(historical_df[\"requests\"]), std(historical_df[\"requests\"])\n",
    "cut_off = data_std * 1 #Räknas som outliers om de är mer än 2 standard deviations från medelvärdet. \n",
    "lower, upper = data_mean - cut_off, data_mean + cut_off\n",
    "print(lower,upper)\n",
    "print(data_mean)\n",
    "\n",
    "outliers = [x for x in historical_df[\"requests\"] if x < lower or x > upper]\n",
    "print('Identified outliers: %d' % len(outliers))\n",
    "...\n",
    "outliers_removed = [x for x in historical_df[\"requests\"] if x > lower and x < upper]\n",
    "print(len(outliers_removed))\n",
    "historical_df_outliers_removed = historical_df[(historical_df[\"requests\"] > lower) & (historical_df[\"requests\"] < upper)]\n"
   ]
  },
  {
   "cell_type": "code",
   "execution_count": 194,
   "metadata": {},
   "outputs": [
    {
     "name": "stdout",
     "output_type": "stream",
     "text": [
      "[[894067202000000000]\n",
      " [894067203000000000]\n",
      " [894067204000000000]\n",
      " ...\n",
      " [894153591000000000]\n",
      " [894153592000000000]\n",
      " [894153593000000000]] [[ 6]\n",
      " [10]\n",
      " [ 5]\n",
      " ...\n",
      " [ 4]\n",
      " [ 4]\n",
      " [11]]\n"
     ]
    }
   ],
   "source": [
    "X = historical_df_outliers_removed['timestamp'].astype(int).values.reshape(-1, 1)\n",
    "y = historical_df_outliers_removed['requests'].values.reshape(-1, 1)\n",
    "print(X,y)"
   ]
  },
  {
   "cell_type": "code",
   "execution_count": 85,
   "metadata": {},
   "outputs": [
    {
     "name": "stdout",
     "output_type": "stream",
     "text": [
      "[[-1.73557606]\n",
      " [-1.73535727]\n",
      " [-1.73513848]\n",
      " ...\n",
      " [ 1.72934782]\n",
      " [ 1.7295666 ]\n",
      " [ 1.72978539]] [[-1.27776128]\n",
      " [-1.23208847]\n",
      " [-1.17119138]\n",
      " ...\n",
      " [ 0.89713476]\n",
      " [ 0.75794141]\n",
      " [ 0.29468856]]\n"
     ]
    }
   ],
   "source": [
    "##Scale the data. This part doesnt work as expected.\n",
    "\n",
    "sc_X = StandardScaler()\n",
    "sc_y = StandardScaler()\n",
    "X = sc_X.fit_transform(X)\n",
    "y = sc_y.fit_transform(y)\n",
    "print(X,y)"
   ]
  },
  {
   "cell_type": "code",
   "execution_count": 195,
   "metadata": {},
   "outputs": [],
   "source": [
    "X_data, X_test, y_data, y_test = train_test_split(X, y, test_size=0.1, random_state=42)\n",
    "\n",
    "X_train, X_val, y_train, y_val = train_test_split(X_data, y_data, test_size=(0.2/0.9), random_state=42) #Taget från intelligenta"
   ]
  },
  {
   "cell_type": "code",
   "execution_count": null,
   "metadata": {},
   "outputs": [],
   "source": []
  },
  {
   "cell_type": "code",
   "execution_count": null,
   "metadata": {},
   "outputs": [],
   "source": []
  },
  {
   "cell_type": "code",
   "execution_count": 88,
   "metadata": {},
   "outputs": [
    {
     "name": "stdout",
     "output_type": "stream",
     "text": [
      "Mean Squared Error: 0.8658271976246213\n"
     ]
    }
   ],
   "source": [
    "# Model Evaluation\n",
    "##Linear regression\n",
    "model = LinearRegression()\n",
    "model.fit(X_train, y_train)\n",
    "y_pred = model.predict(X_test)\n",
    "mse = mean_squared_error(y_test, y_pred)\n",
    "print(\"Mean Squared Error:\", mse)\n"
   ]
  },
  {
   "cell_type": "code",
   "execution_count": 32,
   "metadata": {},
   "outputs": [
    {
     "name": "stdout",
     "output_type": "stream",
     "text": [
      "Mean Squared Error: 132627.36284775936\n"
     ]
    }
   ],
   "source": [
    "#Support vector machines\n",
    "# Train SVR model with polynomial kernel\n",
    "poly_svr = make_pipeline(StandardScaler(), SVR(kernel='poly', degree=5, C=100, gamma=\"auto\", epsilon=0.1, coef0=1))  # Adjust degree as needed\n",
    "poly_svr.fit(X_train, y_train)\n",
    "# Predict workload\n",
    "y_pred = poly_svr.predict(X_test)\n",
    "\n",
    "# Calculate Mean Squared Error\n",
    "mse = mean_squared_error(y_test, y_pred)\n",
    "print(\"Mean Squared Error:\", mse)\n"
   ]
  },
  {
   "cell_type": "code",
   "execution_count": 67,
   "metadata": {},
   "outputs": [
    {
     "name": "stdout",
     "output_type": "stream",
     "text": [
      "Best Degree: 1\n",
      "Best MSE: 141895.00995225305\n"
     ]
    }
   ],
   "source": [
    "\n",
    "# Initialize variables to store best degree and corresponding MSE\n",
    "best_degree = None\n",
    "best_mse = float('inf')  # Initialize with a large value\n",
    "\n",
    "# Try different degrees\n",
    "for degree in range(1, 6):  # Try degrees 1 to 5\n",
    "    # Train SVR model with polynomial kernel\n",
    "    poly_svr = make_pipeline(StandardScaler(), SVR(kernel='rbf', degree=degree))\n",
    "    poly_svr.fit(X_train, y_train)\n",
    "\n",
    "    # Predict workload on validation set\n",
    "    y_pred = poly_svr.predict(X_val)\n",
    "\n",
    "    # Calculate Mean Squared Error\n",
    "    mse = mean_squared_error(y_val, y_pred)\n",
    "\n",
    "    # Check if current degree gives lower MSE\n",
    "    if mse < best_mse:\n",
    "        best_mse = mse\n",
    "        best_degree = degree\n",
    "\n",
    "# Print the best degree and corresponding MSE\n",
    "print(\"Best Degree:\", best_degree)\n",
    "print(\"Best MSE:\", best_mse)"
   ]
  },
  {
   "cell_type": "code",
   "execution_count": 196,
   "metadata": {},
   "outputs": [
    {
     "name": "stderr",
     "output_type": "stream",
     "text": [
      "/Users/admin/anaconda3/envs/exjobb/lib/python3.11/site-packages/sklearn/utils/validation.py:1300: DataConversionWarning: A column-vector y was passed when a 1d array was expected. Please change the shape of y to (n_samples, ), for example using ravel().\n",
      "  y = column_or_1d(y, warn=True)\n"
     ]
    },
    {
     "name": "stdout",
     "output_type": "stream",
     "text": [
      "Mean Squared Error: 6.779232993332347\n",
      "R-squared: 0.03862247646197636\n"
     ]
    }
   ],
   "source": [
    "## Trying SVM with regression \n",
    "svr = SVR(C=1.0, epsilon=0.2).fit(X_train, y_train)\n",
    "# Predict workload\n",
    "y_pred = svr.predict(X_test)\n",
    "\n",
    "# Calculate Mean Squared Error\n",
    "mse = mean_squared_error(y_test, y_pred)\n",
    "print(\"Mean Squared Error:\", mse)\n",
    "score = svr.score(X,y)\n",
    "print(\"R-squared:\", score)\n"
   ]
  },
  {
   "cell_type": "code",
   "execution_count": 10,
   "metadata": {},
   "outputs": [
    {
     "name": "stdout",
     "output_type": "stream",
     "text": [
      "SVR()\n"
     ]
    }
   ],
   "source": []
  },
  {
   "cell_type": "code",
   "execution_count": 139,
   "metadata": {},
   "outputs": [
    {
     "name": "stdout",
     "output_type": "stream",
     "text": [
      "Mean Squared Error: 22814.734977139124\n"
     ]
    }
   ],
   "source": [
    "## Decision Tree\n",
    "tree_model = DecisionTreeRegressor()\n",
    "tree_model.fit(X_train, y_train)\n",
    "y_pred_tree = tree_model.predict(X_test)\n",
    "mse = mean_squared_error(y_test, y_pred_tree)\n",
    "print(\"Mean Squared Error:\", mse)\n"
   ]
  },
  {
   "cell_type": "code",
   "execution_count": 140,
   "metadata": {},
   "outputs": [
    {
     "name": "stderr",
     "output_type": "stream",
     "text": [
      "/Users/admin/anaconda3/envs/exjobb/lib/python3.11/site-packages/sklearn/base.py:1474: DataConversionWarning: A column-vector y was passed when a 1d array was expected. Please change the shape of y to (n_samples,), for example using ravel().\n",
      "  return fit_method(estimator, *args, **kwargs)\n"
     ]
    },
    {
     "name": "stdout",
     "output_type": "stream",
     "text": [
      "Mean Squared Error: 22569.017421441826\n"
     ]
    }
   ],
   "source": [
    "## Random Forests\n",
    "forest_model = RandomForestRegressor(max_depth= 10,min_samples_leaf = 1, min_samples_split = 10, n_estimators = 300)\n",
    "forest_model.fit(X_train, y_train)\n",
    "y_pred_forest = forest_model.predict(X_test)\n",
    "mse = mean_squared_error(y_test, y_pred_forest)\n",
    "print(\"Mean Squared Error:\", mse)"
   ]
  },
  {
   "cell_type": "code",
   "execution_count": null,
   "metadata": {},
   "outputs": [
    {
     "name": "stdout",
     "output_type": "stream",
     "text": [
      "Mean Squared Error: 183.56072563159594\n",
      "Best Parameters: {'max_depth': 10, 'min_samples_leaf': 1, 'min_samples_split': 10, 'n_estimators': 300}\n"
     ]
    }
   ],
   "source": [
    "# parameter grid\n",
    "param_grid = {\n",
    "    'n_estimators': [100, 200, 300],  # Number of trees in the forest\n",
    "    'max_depth': [None, 10, 20],        # Maximum depth of the trees\n",
    "    'min_samples_split': [2, 5, 10],    # Minimum number of samples required to split an internal node\n",
    "    'min_samples_leaf': [1, 2, 4]       # Minimum number of samples required to be at a leaf node\n",
    "}\n",
    "\n",
    "forest_model = RandomForestRegressor()\n",
    "\n",
    "grid_search = GridSearchCV(forest_model, param_grid, cv=5, scoring='neg_mean_squared_error')\n",
    "grid_search.fit(X_train, y_train)\n",
    "\n",
    "best_forest_model = grid_search.best_estimator_\n",
    "y_pred_forest = best_forest_model.predict(X_test)\n",
    "\n",
    "mse = mean_squared_error(y_test, y_pred_forest)\n",
    "print(\"Mean Squared Error:\", mse)\n",
    "\n",
    "print(\"Best Parameters:\", grid_search.best_params_)"
   ]
  },
  {
   "cell_type": "code",
   "execution_count": 138,
   "metadata": {},
   "outputs": [
    {
     "name": "stderr",
     "output_type": "stream",
     "text": [
      "/Users/admin/anaconda3/envs/exjobb/lib/python3.11/site-packages/sklearn/ensemble/_gb.py:668: DataConversionWarning: A column-vector y was passed when a 1d array was expected. Please change the shape of y to (n_samples, ), for example using ravel().\n",
      "  y = column_or_1d(y, warn=True)  # TODO: Is this still required?\n"
     ]
    },
    {
     "name": "stdout",
     "output_type": "stream",
     "text": [
      "Mean Squared Error: 24500.401071219083\n"
     ]
    }
   ],
   "source": [
    "\n",
    "## Gradient Boosting\n",
    "gbm_model = GradientBoostingRegressor()\n",
    "gbm_model.fit(X_train, y_train)\n",
    "y_pred_gbm = gbm_model.predict(X_test)\n",
    "mse = mean_squared_error(y_test, y_pred_gbm)\n",
    "print(\"Mean Squared Error:\", mse)"
   ]
  },
  {
   "cell_type": "code",
   "execution_count": 112,
   "metadata": {},
   "outputs": [
    {
     "name": "stdout",
     "output_type": "stream",
     "text": [
      "Mean Squared Error: 16951.350847337446\n"
     ]
    }
   ],
   "source": [
    "knn_regressor = KNeighborsRegressor(n_neighbors=3)\n",
    "knn_regressor.fit(X_train, y_train)\n",
    "y_pred = knn_regressor.predict(X_test)\n",
    "mse = mean_squared_error(y_test, y_pred)\n",
    "print(\"Mean Squared Error:\", mse)\n",
    "hyperparameters = {'n_neighbors': np.arange(1,30,1)}\n"
   ]
  },
  {
   "cell_type": "code",
   "execution_count": 184,
   "metadata": {},
   "outputs": [
    {
     "name": "stdout",
     "output_type": "stream",
     "text": [
      "DatetimeIndex(['1998-05-03 00:00:00', '1998-05-03 00:01:00',\n",
      "               '1998-05-03 00:02:00', '1998-05-03 00:03:00',\n",
      "               '1998-05-03 00:04:00', '1998-05-03 00:05:00',\n",
      "               '1998-05-03 00:06:00', '1998-05-03 00:07:00',\n",
      "               '1998-05-03 00:08:00', '1998-05-03 00:09:00',\n",
      "               ...\n",
      "               '1998-05-04 18:48:00', '1998-05-04 18:49:00',\n",
      "               '1998-05-04 18:50:00', '1998-05-04 18:51:00',\n",
      "               '1998-05-04 18:52:00', '1998-05-04 18:53:00',\n",
      "               '1998-05-04 18:54:00', '1998-05-04 18:55:00',\n",
      "               '1998-05-04 18:56:00', '1998-05-04 18:57:00'],\n",
      "              dtype='datetime64[ns]', length=2578, freq='T')\n",
      "DatetimeIndex(['1998-05-02 00:00:00', '1998-05-02 00:01:00',\n",
      "               '1998-05-02 00:02:00', '1998-05-02 00:03:00',\n",
      "               '1998-05-02 00:04:00', '1998-05-02 00:05:00',\n",
      "               '1998-05-02 00:06:00', '1998-05-02 00:07:00',\n",
      "               '1998-05-02 00:08:00', '1998-05-02 00:09:00',\n",
      "               ...\n",
      "               '1998-05-04 18:48:00', '1998-05-04 18:49:00',\n",
      "               '1998-05-04 18:50:00', '1998-05-04 18:51:00',\n",
      "               '1998-05-04 18:52:00', '1998-05-04 18:53:00',\n",
      "               '1998-05-04 18:54:00', '1998-05-04 18:55:00',\n",
      "               '1998-05-04 18:56:00', '1998-05-04 18:57:00'],\n",
      "              dtype='datetime64[ns]', length=4018, freq='T')\n"
     ]
    }
   ],
   "source": [
    "last_date = historical_df_outliers_removed['timestamp'].max()\n",
    "first_date = historical_df_outliers_removed['timestamp'].min()\n",
    "next_day = last_date + pd.DateOffset(days=1)\n",
    "\n",
    "#Prepare next day timestamps, starting from the beginning of the next day \n",
    "next_day_timestamps = pd.date_range(start=next_day.replace(hour=0, minute=0, second=0), end=next_day+ pd.DateOffset(days=1), freq='T')\n",
    "all_days= pd.date_range(start=first_date.replace(hour=0, minute=0, second=0), end=next_day+ pd.DateOffset(days=1), freq='T')\n",
    "print(next_day_timestamps)\n",
    "print(all_days)"
   ]
  },
  {
   "cell_type": "code",
   "execution_count": 180,
   "metadata": {},
   "outputs": [
    {
     "name": "stdout",
     "output_type": "stream",
     "text": [
      "[8.94110503e+17 8.94110503e+17 8.94110503e+17 ... 8.94110503e+17\n",
      " 8.94110503e+17 8.94110503e+17]\n"
     ]
    }
   ],
   "source": [
    "next_day_predictions = model.predict(next_day_timestamps.astype(int).values.reshape(-1, 1))  # Use your model to predict workload for next_day_timestamps\n",
    "all_day_predictions = svr.predict(all_days.astype(int).values.reshape(-1, 1))\n",
    "print(all_day_predictions)\n"
   ]
  },
  {
   "cell_type": "code",
   "execution_count": 182,
   "metadata": {},
   "outputs": [
    {
     "data": {
      "image/png": "[encoded data removed]",
      "text/plain": [
       "<Figure size 640x480 with 1 Axes>"
      ]
     },
     "metadata": {},
     "output_type": "display_data"
    }
   ],
   "source": [
    "plt.plot(historical_df_outliers_removed['timestamp'], historical_df_outliers_removed['requests'], label='Historical Data')\n",
    "\n",
    "plt.plot(all_days, all_day_predictions, label='Predicted Workload')\n",
    "plt.xlabel('Timestamp')\n",
    "plt.ylabel('Workload')\n",
    "plt.title('Workload Prediction')\n",
    "plt.legend()\n",
    "plt.show()"
   ]
  },
  {
   "cell_type": "markdown",
   "metadata": {},
   "source": []
  },
  {
   "cell_type": "code",
   "execution_count": 27,
   "metadata": {},
   "outputs": [
    {
     "data": {
      "image/png": "[encoded data removed]",
      "text/plain": [
       "<Figure size 640x480 with 1 Axes>"
      ]
     },
     "metadata": {},
     "output_type": "display_data"
    }
   ],
   "source": [
    "five_fays = first_date + pd.DateOffset(days=10)\n",
    "last_five_days= pd.date_range(start=five_fays.replace(hour=0, minute=0, second=0), end=next_day+ pd.DateOffset(days=1), freq='T')\n",
    "last_five_days_predictions = svr.predict(last_five_days.astype(int).values.reshape(-1, 1))\n",
    "\n",
    "plt.plot(historical_df['timestamp'], historical_df['total_load'], label='Historical Data')\n",
    "\n",
    "plt.plot(last_five_days, last_five_days_predictions, label='Predicted Workload')\n",
    "plt.xlabel('Timestamp')\n",
    "plt.ylabel('Workload')\n",
    "plt.title('Workload Prediction for Next Day')\n",
    "plt.legend()\n",
    "plt.show()"
   ]
  },
  {
   "cell_type": "markdown",
   "metadata": {},
   "source": []
  }
 ],
 "metadata": {
  "kernelspec": {
   "display_name": "exjobb",
   "language": "python",
   "name": "python3"
  },
  "language_info": {
   "codemirror_mode": {
    "name": "ipython",
    "version": 3
   },
   "file_extension": ".py",
   "mimetype": "text/x-python",
   "name": "python",
   "nbconvert_exporter": "python",
   "pygments_lexer": "ipython3",
   "version": "3.11.4"
  }
 },
 "nbformat": 4,
 "nbformat_minor": 2
}
